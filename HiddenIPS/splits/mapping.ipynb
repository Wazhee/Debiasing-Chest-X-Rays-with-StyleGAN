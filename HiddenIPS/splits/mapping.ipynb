{
 "cells": [
  {
   "cell_type": "code",
   "execution_count": 1,
   "metadata": {},
   "outputs": [],
   "source": [
    "import os\n",
    "import json\n",
    "import pandas as pd\n",
    "from tqdm import tqdm\n",
    "\n",
    "with open('pneumonia-challenge-dataset-mappings_2018.json', 'r') as file:\n",
    "    data = file.read()\n",
    "    \n",
    "parsed_data = json.loads(data)"
   ]
  },
  {
   "cell_type": "code",
   "execution_count": 2,
   "metadata": {},
   "outputs": [
    {
     "name": "stderr",
     "output_type": "stream",
     "text": [
      "100%|██████████| 30000/30000 [00:00<00:00, 1792667.44it/s]\n"
     ]
    }
   ],
   "source": [
    "# create a mapping for image and patient id\n",
    "rsna_map = {}\n",
    "\n",
    "for i in tqdm(range(len(parsed_data))):\n",
    "    rsna_map[parsed_data[i]['subset_img_id']] = parsed_data[i]['img_id']"
   ]
  },
  {
   "cell_type": "code",
   "execution_count": 3,
   "metadata": {},
   "outputs": [],
   "source": [
    "# iterate through each fold (trial_0, trial_1, etc...)\n",
    "def convert(path, mapping):\n",
    "    df = pd.DataFrame(pd.read_csv(path))\n",
    "    tmp = df.copy()\n",
    "    for idx in range(len(tmp)):\n",
    "        if tmp.iloc[idx,0].split('.')[0] not in mapping:\n",
    "            print(f\"issue with {tmp.iloc[idx,1]}...\")\n",
    "        else:\n",
    "            tmp.iloc[idx,0] = mapping[tmp.iloc[idx,0].split('.')[0]]\n",
    "    return tmp\n",
    "\n",
    "# k = 5\n",
    "# for i in tqdm(range(k)):\n",
    "#     train_csv, val_csv = f'trial_{i}/train.csv', f'trial_{i}/val.csv'\n",
    "#     train_df, val_df = convert(train_csv, rsna_map), convert(val_csv, rsna_map)\n",
    "#     train_df.to_csv(train_csv, index=False); val_df.to_csv(val_csv, index=False)"
   ]
  },
  {
   "cell_type": "code",
   "execution_count": 5,
   "metadata": {},
   "outputs": [],
   "source": [
    "# Convert test.csv\n",
    "test_csv = 'rsna_test.csv'\n",
    "test_df = convert(test_csv, rsna_map)\n",
    "test_df.to_csv(test_csv, index=False)"
   ]
  },
  {
   "cell_type": "code",
   "execution_count": null,
   "metadata": {},
   "outputs": [],
   "source": []
  }
 ],
 "metadata": {
  "kernelspec": {
   "display_name": "ada",
   "language": "python",
   "name": "ada"
  },
  "language_info": {
   "codemirror_mode": {
    "name": "ipython",
    "version": 3
   },
   "file_extension": ".py",
   "mimetype": "text/x-python",
   "name": "python",
   "nbconvert_exporter": "python",
   "pygments_lexer": "ipython3",
   "version": "3.8.20"
  }
 },
 "nbformat": 4,
 "nbformat_minor": 4
}
