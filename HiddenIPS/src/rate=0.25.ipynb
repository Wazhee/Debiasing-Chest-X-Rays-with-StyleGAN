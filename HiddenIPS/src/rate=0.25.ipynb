{
 "cells": [
  {
   "cell_type": "code",
   "execution_count": null,
   "id": "c5c52d75",
   "metadata": {},
   "outputs": [],
   "source": [
    "# !pip install tensorflow-io==0.35.0\n",
    "# !pip install nibabel\n",
    "# !pip install pydicom\n",
    "# !pip install tqdm"
   ]
  },
  {
   "cell_type": "code",
   "execution_count": 1,
   "id": "f96aadbe",
   "metadata": {},
   "outputs": [
    {
     "name": "stderr",
     "output_type": "stream",
     "text": [
      "2025-02-16 17:00:52.308051: E tensorflow/compiler/xla/stream_executor/cuda/cuda_dnn.cc:9360] Unable to register cuDNN factory: Attempting to register factory for plugin cuDNN when one has already been registered\n",
      "2025-02-16 17:00:52.308117: E tensorflow/compiler/xla/stream_executor/cuda/cuda_fft.cc:609] Unable to register cuFFT factory: Attempting to register factory for plugin cuFFT when one has already been registered\n",
      "2025-02-16 17:00:52.308147: E tensorflow/compiler/xla/stream_executor/cuda/cuda_blas.cc:1537] Unable to register cuBLAS factory: Attempting to register factory for plugin cuBLAS when one has already been registered\n",
      "2025-02-16 17:00:52.317913: I tensorflow/core/platform/cpu_feature_guard.cc:183] This TensorFlow binary is optimized to use available CPU instructions in performance-critical operations.\n",
      "To enable the following instructions: SSE3 SSE4.1 SSE4.2 AVX, in other operations, rebuild TensorFlow with the appropriate compiler flags.\n"
     ]
    },
    {
     "name": "stdout",
     "output_type": "stream",
     "text": [
      "GPU list:  [PhysicalDevice(name='/physical_device:GPU:0', device_type='GPU')]\n"
     ]
    }
   ],
   "source": [
    "import tensorflow as tf\n",
    "import os\n",
    "\n",
    "os.environ[\"CUDA_VISIBLE_DEVICES\"] = \"2\"\n",
    "\n",
    "gpus = tf.config.list_physical_devices('GPU')\n",
    "print(\"GPU list: \", gpus)\n",
    "# for i in range(len(gpus)):\n",
    "#     tf.config.experimental.set_memory_growth(gpus[i], True)"
   ]
  },
  {
   "cell_type": "code",
   "execution_count": 2,
   "id": "12d8ee0f",
   "metadata": {},
   "outputs": [
    {
     "name": "stderr",
     "output_type": "stream",
     "text": [
      "/home/runai-home/.local/lib/python3.10/site-packages/tqdm/auto.py:21: TqdmWarning: IProgress not found. Please update jupyter and ipywidgets. See https://ipywidgets.readthedocs.io/en/stable/user_install.html\n",
      "  from .autonotebook import tqdm as notebook_tqdm\n"
     ]
    }
   ],
   "source": [
    "from train import *\n",
    "from test import *\n",
    "from analysis import *\n",
    "\n",
    "model = \"densenet\"\n",
    "def train_test_aim_2(sex=None, age=None, augmentation=False, rate=[0], demo=\"age\"):\n",
    "  train_aim_2(model, sex, age, augmentation, rate, demo)\n",
    "  test_aim_2(model, test_ds, sex, age, augmentation)"
   ]
  },
  {
   "cell_type": "code",
   "execution_count": null,
   "id": "a830f7bf",
   "metadata": {},
   "outputs": [
    {
     "name": "stderr",
     "output_type": "stream",
     "text": [
      "2025-02-16 17:00:56.445156: I tensorflow/core/common_runtime/gpu/gpu_device.cc:1883] Created device /job:localhost/replica:0/task:0/device:GPU:0 with 38293 MB memory:  -> device: 0, name: NVIDIA A100-PCIE-40GB, pci bus id: 0000:44:00.0, compute capability: 8.0\n",
      "2025-02-16 17:00:57.051846: I tensorflow_io/core/kernels/cpu_check.cc:128] Your CPU supports instructions that this TensorFlow IO binary was not compiled to use: SSE3 SSE4.1 SSE4.2 AVX AVX2 FMA\n",
      "2025-02-16 17:00:57.056609: W tensorflow_io/core/kernels/audio_video_mp3_kernels.cc:271] libmp3lame.so.0 or lame functions are not available\n"
     ]
    },
    {
     "name": "stdout",
     "output_type": "stream",
     "text": [
      "Epoch 1/100\n"
     ]
    },
    {
     "name": "stderr",
     "output_type": "stream",
     "text": [
      "2025-02-16 17:01:28.259114: I tensorflow/compiler/xla/stream_executor/cuda/cuda_dnn.cc:442] Loaded cuDNN version 8906\n",
      "2025-02-16 17:01:31.055601: I tensorflow/compiler/xla/service/service.cc:168] XLA service 0x7ff60d163820 initialized for platform CUDA (this does not guarantee that XLA will be used). Devices:\n",
      "2025-02-16 17:01:31.055649: I tensorflow/compiler/xla/service/service.cc:176]   StreamExecutor device (0): NVIDIA A100-PCIE-40GB, Compute Capability 8.0\n",
      "2025-02-16 17:01:31.062906: I tensorflow/compiler/mlir/tensorflow/utils/dump_mlir_util.cc:269] disabling MLIR crash reproducer, set env var `MLIR_CRASH_REPRODUCER_DIRECTORY` to enable.\n",
      "2025-02-16 17:01:31.162142: I ./tensorflow/compiler/jit/device_compiler.h:186] Compiled cluster using XLA!  This line is logged at most once for the lifetime of the process.\n"
     ]
    },
    {
     "name": "stdout",
     "output_type": "stream",
     "text": [
      "292/292 [==============================] - ETA: 0s - loss: 0.4313 - auc: 0.8001"
     ]
    },
    {
     "name": "stderr",
     "output_type": "stream",
     "text": [
      "/usr/local/lib/python3.10/dist-packages/keras/src/engine/training.py:3079: UserWarning: You are saving your model as an HDF5 file via `model.save()`. This file format is considered legacy. We recommend using instead the native Keras format, e.g. `model.save('my_model.keras')`.\n",
      "  saving_api.save_model(\n"
     ]
    },
    {
     "name": "stdout",
     "output_type": "stream",
     "text": [
      "292/292 [==============================] - 243s 645ms/step - loss: 0.4313 - auc: 0.8001 - val_loss: 0.3724 - val_auc: 0.8563 - lr: 5.0000e-05\n",
      "Epoch 2/100\n",
      "292/292 [==============================] - 200s 674ms/step - loss: 0.3922 - auc: 0.8371 - val_loss: 0.4193 - val_auc: 0.8614 - lr: 5.0000e-05\n",
      "Epoch 3/100\n",
      "292/292 [==============================] - 203s 685ms/step - loss: 0.3794 - auc: 0.8498 - val_loss: 0.3561 - val_auc: 0.8731 - lr: 5.0000e-05\n",
      "Epoch 4/100\n",
      "292/292 [==============================] - 195s 657ms/step - loss: 0.3665 - auc: 0.8609 - val_loss: 0.3504 - val_auc: 0.8749 - lr: 5.0000e-05\n",
      "Epoch 5/100\n",
      "292/292 [==============================] - 150s 501ms/step - loss: 0.3668 - auc: 0.8612 - val_loss: 0.3432 - val_auc: 0.8809 - lr: 5.0000e-05\n",
      "Epoch 6/100\n",
      "292/292 [==============================] - 144s 485ms/step - loss: 0.3560 - auc: 0.8705 - val_loss: 0.3403 - val_auc: 0.8847 - lr: 5.0000e-05\n",
      "Epoch 7/100\n",
      "292/292 [==============================] - 143s 481ms/step - loss: 0.3608 - auc: 0.8653 - val_loss: 0.3702 - val_auc: 0.8859 - lr: 5.0000e-05\n",
      "Epoch 8/100\n",
      "292/292 [==============================] - 148s 499ms/step - loss: 0.3519 - auc: 0.8736 - val_loss: 0.3408 - val_auc: 0.8877 - lr: 5.0000e-05\n",
      "Epoch 9/100\n",
      "292/292 [==============================] - 155s 521ms/step - loss: 0.3515 - auc: 0.8738 - val_loss: 0.3348 - val_auc: 0.8904 - lr: 5.0000e-05\n",
      "Epoch 10/100\n",
      "292/292 [==============================] - 159s 536ms/step - loss: 0.3485 - auc: 0.8762 - val_loss: 0.3306 - val_auc: 0.8943 - lr: 5.0000e-05\n",
      "Epoch 11/100\n",
      "292/292 [==============================] - 159s 534ms/step - loss: 0.3469 - auc: 0.8770 - val_loss: 0.3217 - val_auc: 0.8975 - lr: 5.0000e-05\n",
      "Epoch 12/100\n",
      "292/292 [==============================] - 148s 499ms/step - loss: 0.3451 - auc: 0.8792 - val_loss: 0.3299 - val_auc: 0.8963 - lr: 5.0000e-05\n",
      "Epoch 13/100\n",
      "292/292 [==============================] - 149s 501ms/step - loss: 0.3419 - auc: 0.8820 - val_loss: 0.3239 - val_auc: 0.8989 - lr: 5.0000e-05\n",
      "Epoch 14/100\n",
      "292/292 [==============================] - 145s 487ms/step - loss: 0.3431 - auc: 0.8808 - val_loss: 0.3195 - val_auc: 0.8996 - lr: 5.0000e-05\n",
      "Epoch 15/100\n",
      "292/292 [==============================] - 133s 448ms/step - loss: 0.3409 - auc: 0.8825 - val_loss: 0.3285 - val_auc: 0.9015 - lr: 5.0000e-05\n",
      "Epoch 16/100\n",
      "292/292 [==============================] - 135s 454ms/step - loss: 0.3388 - auc: 0.8846 - val_loss: 0.3189 - val_auc: 0.8997 - lr: 5.0000e-05\n",
      "Epoch 17/100\n",
      "292/292 [==============================] - 134s 451ms/step - loss: 0.3366 - auc: 0.8861 - val_loss: 0.3123 - val_auc: 0.9041 - lr: 5.0000e-05\n",
      "Epoch 18/100\n",
      "292/292 [==============================] - 133s 449ms/step - loss: 0.3352 - auc: 0.8871 - val_loss: 0.3275 - val_auc: 0.9030 - lr: 5.0000e-05\n",
      "Epoch 19/100\n",
      "292/292 [==============================] - 153s 515ms/step - loss: 0.3321 - auc: 0.8890 - val_loss: 0.3165 - val_auc: 0.9058 - lr: 5.0000e-05\n",
      "Epoch 20/100\n",
      "292/292 [==============================] - ETA: 0s - loss: 0.3330 - auc: 0.8889"
     ]
    }
   ],
   "source": [
    "train_test_aim_2(sex='M', augmentation=False, rate=[0.05], demo=\"sex\")"
   ]
  },
  {
   "cell_type": "code",
   "execution_count": null,
   "id": "bdf07045",
   "metadata": {},
   "outputs": [],
   "source": []
  }
 ],
 "metadata": {
  "kernelspec": {
   "display_name": "Python 3 (ipykernel)",
   "language": "python",
   "name": "python3"
  },
  "language_info": {
   "codemirror_mode": {
    "name": "ipython",
    "version": 3
   },
   "file_extension": ".py",
   "mimetype": "text/x-python",
   "name": "python",
   "nbconvert_exporter": "python",
   "pygments_lexer": "ipython3",
   "version": "3.10.12"
  }
 },
 "nbformat": 4,
 "nbformat_minor": 5
}
