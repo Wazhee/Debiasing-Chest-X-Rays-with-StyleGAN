{
 "cells": [
  {
   "cell_type": "code",
   "execution_count": 1,
   "id": "21a49a88",
   "metadata": {},
   "outputs": [],
   "source": [
    "# !pip install tensorflow-io==0.35.0\n",
    "# !pip install nibabel\n",
    "# !pip install pydicom\n",
    "# !pip install tqdm"
   ]
  },
  {
   "cell_type": "code",
   "execution_count": 1,
   "id": "9db0f4c5",
   "metadata": {},
   "outputs": [
    {
     "name": "stderr",
     "output_type": "stream",
     "text": [
      "2025-02-10 23:13:52.470323: E tensorflow/compiler/xla/stream_executor/cuda/cuda_dnn.cc:9360] Unable to register cuDNN factory: Attempting to register factory for plugin cuDNN when one has already been registered\n",
      "2025-02-10 23:13:52.470394: E tensorflow/compiler/xla/stream_executor/cuda/cuda_fft.cc:609] Unable to register cuFFT factory: Attempting to register factory for plugin cuFFT when one has already been registered\n",
      "2025-02-10 23:13:52.470433: E tensorflow/compiler/xla/stream_executor/cuda/cuda_blas.cc:1537] Unable to register cuBLAS factory: Attempting to register factory for plugin cuBLAS when one has already been registered\n",
      "2025-02-10 23:13:52.479599: I tensorflow/core/platform/cpu_feature_guard.cc:183] This TensorFlow binary is optimized to use available CPU instructions in performance-critical operations.\n",
      "To enable the following instructions: SSE3 SSE4.1 SSE4.2 AVX, in other operations, rebuild TensorFlow with the appropriate compiler flags.\n"
     ]
    },
    {
     "name": "stdout",
     "output_type": "stream",
     "text": [
      "GPU list:  [PhysicalDevice(name='/physical_device:GPU:0', device_type='GPU')]\n"
     ]
    }
   ],
   "source": [
    "import tensorflow as tf\n",
    "import os\n",
    "\n",
    "os.environ[\"CUDA_VISIBLE_DEVICES\"] = \"3\"\n",
    "\n",
    "gpus = tf.config.list_physical_devices('GPU')\n",
    "print(\"GPU list: \", gpus)\n",
    "# for i in range(len(gpus)):\n",
    "#     tf.config.experimental.set_memory_growth(gpus[i], True)"
   ]
  },
  {
   "cell_type": "code",
   "execution_count": 2,
   "id": "8f9efb72",
   "metadata": {},
   "outputs": [
    {
     "name": "stderr",
     "output_type": "stream",
     "text": [
      "/home/runai-home/.local/lib/python3.10/site-packages/tqdm/auto.py:21: TqdmWarning: IProgress not found. Please update jupyter and ipywidgets. See https://ipywidgets.readthedocs.io/en/stable/user_install.html\n",
      "  from .autonotebook import tqdm as notebook_tqdm\n"
     ]
    }
   ],
   "source": [
    "from train import *\n",
    "from test import *\n",
    "from analysis import *\n",
    "\n",
    "model = \"densenet\"\n",
    "def train_test_aim_2(sex=None, age=None, augmentation=False, rate=[0], demo=\"age\"):\n",
    "  train_aim_2(model, sex, age, augmentation, rate, demo)\n",
    "  test_aim_2(model, test_ds, sex, age, augmentation)"
   ]
  },
  {
   "cell_type": "code",
   "execution_count": null,
   "id": "fb3fefe4",
   "metadata": {},
   "outputs": [
    {
     "name": "stderr",
     "output_type": "stream",
     "text": [
      "2025-02-10 23:13:56.204660: I tensorflow/core/common_runtime/gpu/gpu_device.cc:1883] Created device /job:localhost/replica:0/task:0/device:GPU:0 with 43293 MB memory:  -> device: 0, name: NVIDIA A40, pci bus id: 0000:44:00.0, compute capability: 8.6\n",
      "2025-02-10 23:13:56.753155: I tensorflow_io/core/kernels/cpu_check.cc:128] Your CPU supports instructions that this TensorFlow IO binary was not compiled to use: SSE3 SSE4.1 SSE4.2 AVX AVX2 FMA\n",
      "2025-02-10 23:13:56.758402: W tensorflow_io/core/kernels/audio_video_mp3_kernels.cc:271] libmp3lame.so.0 or lame functions are not available\n"
     ]
    },
    {
     "name": "stdout",
     "output_type": "stream",
     "text": [
      "Epoch 1/100\n"
     ]
    },
    {
     "name": "stderr",
     "output_type": "stream",
     "text": [
      "2025-02-10 23:14:24.770106: I tensorflow/compiler/xla/stream_executor/cuda/cuda_dnn.cc:442] Loaded cuDNN version 8906\n",
      "2025-02-10 23:14:27.503229: I tensorflow/compiler/xla/service/service.cc:168] XLA service 0x7f5840b2de20 initialized for platform CUDA (this does not guarantee that XLA will be used). Devices:\n",
      "2025-02-10 23:14:27.503273: I tensorflow/compiler/xla/service/service.cc:176]   StreamExecutor device (0): NVIDIA A40, Compute Capability 8.6\n",
      "2025-02-10 23:14:27.508448: I tensorflow/compiler/mlir/tensorflow/utils/dump_mlir_util.cc:269] disabling MLIR crash reproducer, set env var `MLIR_CRASH_REPRODUCER_DIRECTORY` to enable.\n",
      "2025-02-10 23:14:27.572606: I ./tensorflow/compiler/jit/device_compiler.h:186] Compiled cluster using XLA!  This line is logged at most once for the lifetime of the process.\n"
     ]
    },
    {
     "name": "stdout",
     "output_type": "stream",
     "text": [
      " 71/292 [======>.......................] - ETA: 2:03 - loss: 0.4740 - auc: 0.7311"
     ]
    }
   ],
   "source": [
    "train_test_aim_2(age='60-80', augmentation=False, rate=[0.50], demo=\"age\")"
   ]
  },
  {
   "cell_type": "code",
   "execution_count": null,
   "id": "aebaa9a4",
   "metadata": {},
   "outputs": [],
   "source": []
  }
 ],
 "metadata": {
  "kernelspec": {
   "display_name": "Python 3 (ipykernel)",
   "language": "python",
   "name": "python3"
  },
  "language_info": {
   "codemirror_mode": {
    "name": "ipython",
    "version": 3
   },
   "file_extension": ".py",
   "mimetype": "text/x-python",
   "name": "python",
   "nbconvert_exporter": "python",
   "pygments_lexer": "ipython3",
   "version": "3.10.12"
  }
 },
 "nbformat": 4,
 "nbformat_minor": 5
}
