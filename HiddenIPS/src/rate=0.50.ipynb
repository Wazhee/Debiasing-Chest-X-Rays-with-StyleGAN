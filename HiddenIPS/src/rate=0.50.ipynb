{
 "cells": [
  {
   "cell_type": "code",
   "execution_count": null,
   "id": "0337f967",
   "metadata": {},
   "outputs": [],
   "source": [
    "# !pip install tensorflow-io==0.35.0\n",
    "# !pip install nibabel\n",
    "# !pip install pydicom\n",
    "# !pip install tqdm"
   ]
  },
  {
   "cell_type": "code",
   "execution_count": null,
   "id": "1d5203a9",
   "metadata": {},
   "outputs": [],
   "source": [
    "import tensorflow as tf\n",
    "import os\n",
    "\n",
    "os.environ[\"CUDA_VISIBLE_DEVICES\"] = \"3\"\n",
    "\n",
    "gpus = tf.config.list_physical_devices('GPU')\n",
    "print(\"GPU list: \", gpus)\n",
    "# for i in range(len(gpus)):\n",
    "#     tf.config.experimental.set_memory_growth(gpus[i], True)"
   ]
  },
  {
   "cell_type": "code",
   "execution_count": null,
   "id": "5a6a0dc0",
   "metadata": {},
   "outputs": [],
   "source": [
    "from train import *\n",
    "from test import *\n",
    "from analysis import *\n",
    "\n",
    "model = \"densenet\"\n",
    "def train_test_aim_2(sex=None, age=None, augmentation=False, rate=[0], demo=\"age\"):\n",
    "  train_aim_2(model, sex, age, augmentation, rate, demo)\n",
    "  test_aim_2(model, test_ds, sex, age, augmentation)"
   ]
  },
  {
   "cell_type": "code",
   "execution_count": null,
   "id": "0963c540",
   "metadata": {},
   "outputs": [],
   "source": [
    "train_test_aim_2(sex='M', augmentation=False, rate=[0.05], demo=\"sex\")"
   ]
  },
  {
   "cell_type": "code",
   "execution_count": null,
   "id": "14e2c7ce",
   "metadata": {},
   "outputs": [],
   "source": []
  }
 ],
 "metadata": {
  "kernelspec": {
   "display_name": "Python 3 (ipykernel)",
   "language": "python",
   "name": "python3"
  },
  "language_info": {
   "codemirror_mode": {
    "name": "ipython",
    "version": 3
   },
   "file_extension": ".py",
   "mimetype": "text/x-python",
   "name": "python",
   "nbconvert_exporter": "python",
   "pygments_lexer": "ipython3",
   "version": "3.10.12"
  }
 },
 "nbformat": 4,
 "nbformat_minor": 5
}
