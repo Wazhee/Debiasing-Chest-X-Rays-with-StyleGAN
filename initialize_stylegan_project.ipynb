{
 "cells": [
  {
   "cell_type": "code",
   "execution_count": 1,
   "metadata": {},
   "outputs": [
    {
     "name": "stderr",
     "output_type": "stream",
     "text": [
      "/home/uwaejaso/.local/lib/python3.11/site-packages/tqdm/auto.py:21: TqdmWarning: IProgress not found. Please update jupyter and ipywidgets. See https://ipywidgets.readthedocs.io/en/stable/user_install.html\n",
      "  from .autonotebook import tqdm as notebook_tqdm\n"
     ]
    },
    {
     "name": "stdout",
     "output_type": "stream",
     "text": [
      "Warning: Looks like you're using an outdated `kagglehub` version, please consider updating (latest version: 0.3.4)\n",
      "Downloading from https://www.kaggle.com/api/v1/datasets/download/ashery/chexpert?dataset_version_number=1...\n"
     ]
    },
    {
     "name": "stderr",
     "output_type": "stream",
     "text": [
      "100%|██████████| 10.7G/10.7G [02:31<00:00, 76.0MB/s]"
     ]
    },
    {
     "name": "stdout",
     "output_type": "stream",
     "text": [
      "Extracting files...\n"
     ]
    },
    {
     "name": "stderr",
     "output_type": "stream",
     "text": [
      "\n"
     ]
    },
    {
     "name": "stdout",
     "output_type": "stream",
     "text": [
      "Path to dataset files: /home/uwaejaso/.cache/kagglehub/datasets/ashery/chexpert/versions/1\n"
     ]
    }
   ],
   "source": [
    "import kagglehub\n",
    "\n",
    "# Download latest version\n",
    "path = kagglehub.dataset_download(\"ashery/chexpert\")\n",
    "\n",
    "print(\"Path to dataset files:\", path)"
   ]
  },
  {
   "cell_type": "code",
   "execution_count": 2,
   "metadata": {},
   "outputs": [],
   "source": [
    "!mv /home/uwaejaso/.cache/kagglehub/datasets/ashery/chexpert/ ./"
   ]
  },
  {
   "cell_type": "markdown",
   "metadata": {},
   "source": [
    "## Download StyleGAN Repository"
   ]
  },
  {
   "cell_type": "code",
   "execution_count": 3,
   "metadata": {},
   "outputs": [
    {
     "name": "stdout",
     "output_type": "stream",
     "text": [
      "fatal: destination path 'stylegan2-ada-pytorch' already exists and is not an empty directory.\n",
      "/home/uwaejaso/Fall 2024/CXR Project/stylegan2-ada-pytorch\n",
      "mkdir: cannot create directory ‘downloads’: File exists\n",
      "mkdir: cannot create directory ‘datasets’: File exists\n"
     ]
    },
    {
     "name": "stderr",
     "output_type": "stream",
     "text": [
      "/apps/local/anaconda/3.7/envs/tensorflow2.16.1/lib/python3.11/site-packages/IPython/core/magics/osm.py:417: UserWarning: This is now an optional IPython functionality, setting dhist requires you to install the `pickleshare` library.\n",
      "  self.shell.db['dhist'] = compress_dhist(dhist)[-100:]\n"
     ]
    },
    {
     "name": "stdout",
     "output_type": "stream",
     "text": [
      "mkdir: cannot create directory ‘pretrained’: File exists\n",
      "/home/uwaejaso/Fall 2024/CXR Project/stylegan2-ada-pytorch/pretrained\n",
      "/home/uwaejaso/Fall 2024/CXR Project/stylegan2-ada-pytorch\n"
     ]
    }
   ],
   "source": [
    "import os\n",
    "\n",
    "if os.path.isdir(\"sg2-ada-pytorch\"):\n",
    "    %cd \"sg2-ada-pytorch/stylegan2-ada-pytorch\"\n",
    "else:\n",
    "    !git clone https://github.com/dvschultz/stylegan2-ada-pytorch\n",
    "    %cd stylegan2-ada-pytorch\n",
    "    !mkdir downloads\n",
    "    !mkdir datasets\n",
    "    !mkdir pretrained\n",
    "    %cd pretrained\n",
    "    %cd ../"
   ]
  },
  {
   "cell_type": "code",
   "execution_count": 4,
   "metadata": {},
   "outputs": [],
   "source": [
    "#required: definitely edit these!\n",
    "dataset_path = 'datasets/cxr_data/'\n",
    "resume_from = './pretrained/wikiart.pkl'\n",
    "aug_strength = 0.0\n",
    "train_count = 0\n",
    "mirror_x = True\n",
    "#mirror_y = False\n",
    "\n",
    "#optional: you might not need to edit these\n",
    "gamma_value = 50.0\n",
    "augs = 'bg'\n",
    "config = '11gb-gpu'\n",
    "snapshot_count = 4"
   ]
  },
  {
   "cell_type": "markdown",
   "metadata": {},
   "source": [
    "## Create CXR Training Dataset"
   ]
  },
  {
   "cell_type": "code",
   "execution_count": 5,
   "metadata": {},
   "outputs": [
    {
     "data": {
      "text/plain": [
       "'b43dbfe0-cea8-4ce6-b608-e8ab671f09a4.dcm'"
      ]
     },
     "execution_count": 5,
     "metadata": {},
     "output_type": "execute_result"
    }
   ],
   "source": [
    "import pydicom as dicom\n",
    "import cv2\n",
    "from tqdm import tqdm\n",
    "import os\n",
    "\n",
    "input_dir, output_dir = \"../pneumonia_dataset/stage_2_train_images/\", \"datasets/cxr_train/\"\n",
    "if not os.path.exists(output_dir):\n",
    "    os.makedirs(output_dir)\n",
    "files = os.listdir(input_dir)\n",
    "files[0]"
   ]
  },
  {
   "cell_type": "code",
   "execution_count": null,
   "metadata": {},
   "outputs": [
    {
     "name": "stderr",
     "output_type": "stream",
     "text": [
      " 14%|█▍        | 3722/26684 [01:59<24:52, 15.39it/s]"
     ]
    }
   ],
   "source": [
    "for file in tqdm(files):\n",
    "    try:\n",
    "        idx = file.split('.')[0]\n",
    "        cv2.imwrite(output_dir+idx+\".png\", dicom.dcmread(input_dir+file).pixel_array)\n",
    "    except:\n",
    "        print(f\"issues with {file}...\")"
   ]
  },
  {
   "cell_type": "code",
   "execution_count": null,
   "metadata": {},
   "outputs": [],
   "source": []
  }
 ],
 "metadata": {
  "kernelspec": {
   "display_name": "Tensorflow 2.16.1",
   "language": "python",
   "name": "tensorflow2.16.1"
  },
  "language_info": {
   "codemirror_mode": {
    "name": "ipython",
    "version": 3
   },
   "file_extension": ".py",
   "mimetype": "text/x-python",
   "name": "python",
   "nbconvert_exporter": "python",
   "pygments_lexer": "ipython3",
   "version": "3.11.9"
  }
 },
 "nbformat": 4,
 "nbformat_minor": 4
}
