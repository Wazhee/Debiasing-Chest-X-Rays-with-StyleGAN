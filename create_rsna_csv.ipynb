{
 "cells": [
  {
   "cell_type": "markdown",
   "metadata": {},
   "source": [
    "## Create Train & Test RSNA csv files"
   ]
  },
  {
   "cell_type": "code",
   "execution_count": 56,
   "metadata": {},
   "outputs": [
    {
     "data": {
      "text/html": [
       "<div>\n",
       "<style scoped>\n",
       "    .dataframe tbody tr th:only-of-type {\n",
       "        vertical-align: middle;\n",
       "    }\n",
       "\n",
       "    .dataframe tbody tr th {\n",
       "        vertical-align: top;\n",
       "    }\n",
       "\n",
       "    .dataframe thead th {\n",
       "        text-align: right;\n",
       "    }\n",
       "</style>\n",
       "<table border=\"1\" class=\"dataframe\">\n",
       "  <thead>\n",
       "    <tr style=\"text-align: right;\">\n",
       "      <th></th>\n",
       "      <th>Image Index</th>\n",
       "      <th>Finding Labels</th>\n",
       "      <th>Follow-up #</th>\n",
       "      <th>Patient ID</th>\n",
       "      <th>Patient Age</th>\n",
       "      <th>Patient Gender</th>\n",
       "      <th>View Position</th>\n",
       "      <th>OriginalImage[Width</th>\n",
       "      <th>Height]</th>\n",
       "      <th>OriginalImagePixelSpacing[x</th>\n",
       "      <th>y]</th>\n",
       "      <th>Unnamed: 11</th>\n",
       "    </tr>\n",
       "  </thead>\n",
       "  <tbody>\n",
       "    <tr>\n",
       "      <th>0</th>\n",
       "      <td>00000001_000.png</td>\n",
       "      <td>Cardiomegaly</td>\n",
       "      <td>0</td>\n",
       "      <td>1</td>\n",
       "      <td>58</td>\n",
       "      <td>M</td>\n",
       "      <td>PA</td>\n",
       "      <td>2682</td>\n",
       "      <td>2749</td>\n",
       "      <td>0.143</td>\n",
       "      <td>0.143</td>\n",
       "      <td>NaN</td>\n",
       "    </tr>\n",
       "    <tr>\n",
       "      <th>1</th>\n",
       "      <td>00000001_001.png</td>\n",
       "      <td>Cardiomegaly|Emphysema</td>\n",
       "      <td>1</td>\n",
       "      <td>1</td>\n",
       "      <td>58</td>\n",
       "      <td>M</td>\n",
       "      <td>PA</td>\n",
       "      <td>2894</td>\n",
       "      <td>2729</td>\n",
       "      <td>0.143</td>\n",
       "      <td>0.143</td>\n",
       "      <td>NaN</td>\n",
       "    </tr>\n",
       "    <tr>\n",
       "      <th>2</th>\n",
       "      <td>00000001_002.png</td>\n",
       "      <td>Cardiomegaly|Effusion</td>\n",
       "      <td>2</td>\n",
       "      <td>1</td>\n",
       "      <td>58</td>\n",
       "      <td>M</td>\n",
       "      <td>PA</td>\n",
       "      <td>2500</td>\n",
       "      <td>2048</td>\n",
       "      <td>0.168</td>\n",
       "      <td>0.168</td>\n",
       "      <td>NaN</td>\n",
       "    </tr>\n",
       "    <tr>\n",
       "      <th>3</th>\n",
       "      <td>00000002_000.png</td>\n",
       "      <td>No Finding</td>\n",
       "      <td>0</td>\n",
       "      <td>2</td>\n",
       "      <td>81</td>\n",
       "      <td>M</td>\n",
       "      <td>PA</td>\n",
       "      <td>2500</td>\n",
       "      <td>2048</td>\n",
       "      <td>0.171</td>\n",
       "      <td>0.171</td>\n",
       "      <td>NaN</td>\n",
       "    </tr>\n",
       "    <tr>\n",
       "      <th>12</th>\n",
       "      <td>00000004_000.png</td>\n",
       "      <td>Mass|Nodule</td>\n",
       "      <td>0</td>\n",
       "      <td>4</td>\n",
       "      <td>82</td>\n",
       "      <td>M</td>\n",
       "      <td>AP</td>\n",
       "      <td>2500</td>\n",
       "      <td>2048</td>\n",
       "      <td>0.168</td>\n",
       "      <td>0.168</td>\n",
       "      <td>NaN</td>\n",
       "    </tr>\n",
       "    <tr>\n",
       "      <th>...</th>\n",
       "      <td>...</td>\n",
       "      <td>...</td>\n",
       "      <td>...</td>\n",
       "      <td>...</td>\n",
       "      <td>...</td>\n",
       "      <td>...</td>\n",
       "      <td>...</td>\n",
       "      <td>...</td>\n",
       "      <td>...</td>\n",
       "      <td>...</td>\n",
       "      <td>...</td>\n",
       "      <td>...</td>\n",
       "    </tr>\n",
       "    <tr>\n",
       "      <th>112112</th>\n",
       "      <td>00030799_000.png</td>\n",
       "      <td>No Finding</td>\n",
       "      <td>0</td>\n",
       "      <td>30799</td>\n",
       "      <td>32</td>\n",
       "      <td>M</td>\n",
       "      <td>PA</td>\n",
       "      <td>2048</td>\n",
       "      <td>2500</td>\n",
       "      <td>0.171</td>\n",
       "      <td>0.171</td>\n",
       "      <td>NaN</td>\n",
       "    </tr>\n",
       "    <tr>\n",
       "      <th>112114</th>\n",
       "      <td>00030801_000.png</td>\n",
       "      <td>No Finding</td>\n",
       "      <td>0</td>\n",
       "      <td>30801</td>\n",
       "      <td>39</td>\n",
       "      <td>M</td>\n",
       "      <td>PA</td>\n",
       "      <td>2500</td>\n",
       "      <td>2048</td>\n",
       "      <td>0.168</td>\n",
       "      <td>0.168</td>\n",
       "      <td>NaN</td>\n",
       "    </tr>\n",
       "    <tr>\n",
       "      <th>112115</th>\n",
       "      <td>00030801_001.png</td>\n",
       "      <td>Mass|Pneumonia</td>\n",
       "      <td>1</td>\n",
       "      <td>30801</td>\n",
       "      <td>39</td>\n",
       "      <td>M</td>\n",
       "      <td>PA</td>\n",
       "      <td>2048</td>\n",
       "      <td>2500</td>\n",
       "      <td>0.168</td>\n",
       "      <td>0.168</td>\n",
       "      <td>NaN</td>\n",
       "    </tr>\n",
       "    <tr>\n",
       "      <th>112116</th>\n",
       "      <td>00030802_000.png</td>\n",
       "      <td>No Finding</td>\n",
       "      <td>0</td>\n",
       "      <td>30802</td>\n",
       "      <td>29</td>\n",
       "      <td>M</td>\n",
       "      <td>PA</td>\n",
       "      <td>2048</td>\n",
       "      <td>2500</td>\n",
       "      <td>0.168</td>\n",
       "      <td>0.168</td>\n",
       "      <td>NaN</td>\n",
       "    </tr>\n",
       "    <tr>\n",
       "      <th>112119</th>\n",
       "      <td>00030805_000.png</td>\n",
       "      <td>No Finding</td>\n",
       "      <td>0</td>\n",
       "      <td>30805</td>\n",
       "      <td>27</td>\n",
       "      <td>M</td>\n",
       "      <td>PA</td>\n",
       "      <td>2048</td>\n",
       "      <td>2500</td>\n",
       "      <td>0.171</td>\n",
       "      <td>0.171</td>\n",
       "      <td>NaN</td>\n",
       "    </tr>\n",
       "  </tbody>\n",
       "</table>\n",
       "<p>63340 rows × 12 columns</p>\n",
       "</div>"
      ],
      "text/plain": [
       "             Image Index          Finding Labels  Follow-up #  Patient ID  \\\n",
       "0       00000001_000.png            Cardiomegaly            0           1   \n",
       "1       00000001_001.png  Cardiomegaly|Emphysema            1           1   \n",
       "2       00000001_002.png   Cardiomegaly|Effusion            2           1   \n",
       "3       00000002_000.png              No Finding            0           2   \n",
       "12      00000004_000.png             Mass|Nodule            0           4   \n",
       "...                  ...                     ...          ...         ...   \n",
       "112112  00030799_000.png              No Finding            0       30799   \n",
       "112114  00030801_000.png              No Finding            0       30801   \n",
       "112115  00030801_001.png          Mass|Pneumonia            1       30801   \n",
       "112116  00030802_000.png              No Finding            0       30802   \n",
       "112119  00030805_000.png              No Finding            0       30805   \n",
       "\n",
       "        Patient Age Patient Gender View Position  OriginalImage[Width  \\\n",
       "0                58              M            PA                 2682   \n",
       "1                58              M            PA                 2894   \n",
       "2                58              M            PA                 2500   \n",
       "3                81              M            PA                 2500   \n",
       "12               82              M            AP                 2500   \n",
       "...             ...            ...           ...                  ...   \n",
       "112112           32              M            PA                 2048   \n",
       "112114           39              M            PA                 2500   \n",
       "112115           39              M            PA                 2048   \n",
       "112116           29              M            PA                 2048   \n",
       "112119           27              M            PA                 2048   \n",
       "\n",
       "        Height]  OriginalImagePixelSpacing[x     y]  Unnamed: 11  \n",
       "0          2749                        0.143  0.143          NaN  \n",
       "1          2729                        0.143  0.143          NaN  \n",
       "2          2048                        0.168  0.168          NaN  \n",
       "3          2048                        0.171  0.171          NaN  \n",
       "12         2048                        0.168  0.168          NaN  \n",
       "...         ...                          ...    ...          ...  \n",
       "112112     2500                        0.171  0.171          NaN  \n",
       "112114     2048                        0.168  0.168          NaN  \n",
       "112115     2500                        0.168  0.168          NaN  \n",
       "112116     2500                        0.168  0.168          NaN  \n",
       "112119     2500                        0.171  0.171          NaN  \n",
       "\n",
       "[63340 rows x 12 columns]"
      ]
     },
     "execution_count": 56,
     "metadata": {},
     "output_type": "execute_result"
    }
   ],
   "source": [
    "import pandas as pd\n",
    "\n",
    "dataset = pd.read_csv('./3/Data_Entry_2017.csv')\n",
    "df = pd.DataFrame(dataset)\n",
    "df[df[df.columns[5]] == \"M\"]"
   ]
  },
  {
   "cell_type": "code",
   "execution_count": 66,
   "metadata": {},
   "outputs": [
    {
     "data": {
      "text/plain": [
       "Patient Gender\n",
       "M    56.493043\n",
       "F    43.506957\n",
       "Name: proportion, dtype: float64"
      ]
     },
     "execution_count": 66,
     "metadata": {},
     "output_type": "execute_result"
    }
   ],
   "source": [
    "df[df.columns[5]].value_counts(normalize=True) * 100"
   ]
  },
  {
   "cell_type": "code",
   "execution_count": 57,
   "metadata": {},
   "outputs": [],
   "source": [
    "males, females = df[df[df.columns[5]] == \"M\"], df[df[df.columns[5]] == \"F\"]\n",
    "pneumonia = df[(df[df.columns[1]] == \"Pneumonia\") | (df[df.columns[1]] == \"Mass|Pneumonia\")]\n",
    "nofindings = df[(df[df.columns[1]] != \"Pneumonia\") & (df[df.columns[1]] != \"Mass|Pneumonia\")]"
   ]
  },
  {
   "cell_type": "code",
   "execution_count": 58,
   "metadata": {},
   "outputs": [],
   "source": [
    "# Gender Distribution\n",
    "total = len(males) + len(females)\n",
    "percent_male, percent_female = (len(males) / total) * 100, (len(females) / total) * 100\n",
    "\n",
    "# Disease Distribution\n",
    "total = len(pneumonia) + len(nofindings)\n",
    "percent_pneumonia, percent_nofindings = (len(pneumonia) / total) * 100, (len(nofindings) / total) * 100"
   ]
  },
  {
   "cell_type": "code",
   "execution_count": 59,
   "metadata": {},
   "outputs": [
    {
     "name": "stdout",
     "output_type": "stream",
     "text": [
      "NIH Data Distribution\n"
     ]
    },
    {
     "data": {
      "image/png": "[encoded data removed]",
      "text/plain": [
       "<Figure size 640x480 with 2 Axes>"
      ]
     },
     "metadata": {},
     "output_type": "display_data"
    }
   ],
   "source": [
    "import matplotlib.pyplot as plt\n",
    "\n",
    "print(\"NIH Data Distribution\")\n",
    "# Create subplots\n",
    "fig, axes = plt.subplots(1, 2)\n",
    "fig.subplots_adjust(left=0.1, right=2, bottom=0.1, top=0.9, wspace=0.4, hspace=0.6)\n",
    "# Plot the first pie chart\n",
    "axes[0].pie([percent_male, percent_female], labels=['Male', 'Female'], explode=[0.1, 0], autopct='%1.1f%%', startangle=90)\n",
    "axes[0].axis('equal')  # Equal aspect ratio ensures that pie is drawn as a circle.\n",
    "axes[0].set_title('Gender Distribution')\n",
    "\n",
    "axes[1].pie([percent_pneumonia, percent_nofindings], labels=['pneumonia', 'nofindings'], explode=[0.1, 0], autopct='%1.1f%%', startangle=90)\n",
    "axes[1].axis('equal')\n",
    "axes[1].set_title('Disease Distribution')\n",
    "\n",
    "# Display the plot\n",
    "plt.show()"
   ]
  },
  {
   "cell_type": "code",
   "execution_count": 60,
   "metadata": {},
   "outputs": [],
   "source": [
    "relabeled_df = df.copy()\n",
    "for idx in range(len(relabeled_df)):\n",
    "    if \"pneumonia\" in relabeled_df.iloc[idx,1].lower():\n",
    "        relabeled_df.iloc[idx,1] = \"pneumonia\"\n",
    "    else:\n",
    "        relabeled_df.iloc[idx,1] = \"no findings\""
   ]
  },
  {
   "cell_type": "code",
   "execution_count": 61,
   "metadata": {},
   "outputs": [
    {
     "data": {
      "text/html": [
       "<div>\n",
       "<style scoped>\n",
       "    .dataframe tbody tr th:only-of-type {\n",
       "        vertical-align: middle;\n",
       "    }\n",
       "\n",
       "    .dataframe tbody tr th {\n",
       "        vertical-align: top;\n",
       "    }\n",
       "\n",
       "    .dataframe thead th {\n",
       "        text-align: right;\n",
       "    }\n",
       "</style>\n",
       "<table border=\"1\" class=\"dataframe\">\n",
       "  <thead>\n",
       "    <tr style=\"text-align: right;\">\n",
       "      <th></th>\n",
       "      <th>Image Index</th>\n",
       "      <th>Finding Labels</th>\n",
       "      <th>Follow-up #</th>\n",
       "      <th>Patient ID</th>\n",
       "      <th>Patient Age</th>\n",
       "      <th>Patient Gender</th>\n",
       "      <th>View Position</th>\n",
       "      <th>OriginalImage[Width</th>\n",
       "      <th>Height]</th>\n",
       "      <th>OriginalImagePixelSpacing[x</th>\n",
       "      <th>y]</th>\n",
       "      <th>Unnamed: 11</th>\n",
       "    </tr>\n",
       "  </thead>\n",
       "  <tbody>\n",
       "    <tr>\n",
       "      <th>0</th>\n",
       "      <td>00000001_000.png</td>\n",
       "      <td>no findings</td>\n",
       "      <td>0</td>\n",
       "      <td>1</td>\n",
       "      <td>58</td>\n",
       "      <td>M</td>\n",
       "      <td>PA</td>\n",
       "      <td>2682</td>\n",
       "      <td>2749</td>\n",
       "      <td>0.143</td>\n",
       "      <td>0.143</td>\n",
       "      <td>NaN</td>\n",
       "    </tr>\n",
       "    <tr>\n",
       "      <th>1</th>\n",
       "      <td>00000001_001.png</td>\n",
       "      <td>no findings</td>\n",
       "      <td>1</td>\n",
       "      <td>1</td>\n",
       "      <td>58</td>\n",
       "      <td>M</td>\n",
       "      <td>PA</td>\n",
       "      <td>2894</td>\n",
       "      <td>2729</td>\n",
       "      <td>0.143</td>\n",
       "      <td>0.143</td>\n",
       "      <td>NaN</td>\n",
       "    </tr>\n",
       "    <tr>\n",
       "      <th>2</th>\n",
       "      <td>00000001_002.png</td>\n",
       "      <td>no findings</td>\n",
       "      <td>2</td>\n",
       "      <td>1</td>\n",
       "      <td>58</td>\n",
       "      <td>M</td>\n",
       "      <td>PA</td>\n",
       "      <td>2500</td>\n",
       "      <td>2048</td>\n",
       "      <td>0.168</td>\n",
       "      <td>0.168</td>\n",
       "      <td>NaN</td>\n",
       "    </tr>\n",
       "    <tr>\n",
       "      <th>3</th>\n",
       "      <td>00000002_000.png</td>\n",
       "      <td>no findings</td>\n",
       "      <td>0</td>\n",
       "      <td>2</td>\n",
       "      <td>81</td>\n",
       "      <td>M</td>\n",
       "      <td>PA</td>\n",
       "      <td>2500</td>\n",
       "      <td>2048</td>\n",
       "      <td>0.171</td>\n",
       "      <td>0.171</td>\n",
       "      <td>NaN</td>\n",
       "    </tr>\n",
       "    <tr>\n",
       "      <th>4</th>\n",
       "      <td>00000003_000.png</td>\n",
       "      <td>no findings</td>\n",
       "      <td>0</td>\n",
       "      <td>3</td>\n",
       "      <td>81</td>\n",
       "      <td>F</td>\n",
       "      <td>PA</td>\n",
       "      <td>2582</td>\n",
       "      <td>2991</td>\n",
       "      <td>0.143</td>\n",
       "      <td>0.143</td>\n",
       "      <td>NaN</td>\n",
       "    </tr>\n",
       "    <tr>\n",
       "      <th>...</th>\n",
       "      <td>...</td>\n",
       "      <td>...</td>\n",
       "      <td>...</td>\n",
       "      <td>...</td>\n",
       "      <td>...</td>\n",
       "      <td>...</td>\n",
       "      <td>...</td>\n",
       "      <td>...</td>\n",
       "      <td>...</td>\n",
       "      <td>...</td>\n",
       "      <td>...</td>\n",
       "      <td>...</td>\n",
       "    </tr>\n",
       "    <tr>\n",
       "      <th>112115</th>\n",
       "      <td>00030801_001.png</td>\n",
       "      <td>pneumonia</td>\n",
       "      <td>1</td>\n",
       "      <td>30801</td>\n",
       "      <td>39</td>\n",
       "      <td>M</td>\n",
       "      <td>PA</td>\n",
       "      <td>2048</td>\n",
       "      <td>2500</td>\n",
       "      <td>0.168</td>\n",
       "      <td>0.168</td>\n",
       "      <td>NaN</td>\n",
       "    </tr>\n",
       "    <tr>\n",
       "      <th>112116</th>\n",
       "      <td>00030802_000.png</td>\n",
       "      <td>no findings</td>\n",
       "      <td>0</td>\n",
       "      <td>30802</td>\n",
       "      <td>29</td>\n",
       "      <td>M</td>\n",
       "      <td>PA</td>\n",
       "      <td>2048</td>\n",
       "      <td>2500</td>\n",
       "      <td>0.168</td>\n",
       "      <td>0.168</td>\n",
       "      <td>NaN</td>\n",
       "    </tr>\n",
       "    <tr>\n",
       "      <th>112117</th>\n",
       "      <td>00030803_000.png</td>\n",
       "      <td>no findings</td>\n",
       "      <td>0</td>\n",
       "      <td>30803</td>\n",
       "      <td>42</td>\n",
       "      <td>F</td>\n",
       "      <td>PA</td>\n",
       "      <td>2048</td>\n",
       "      <td>2500</td>\n",
       "      <td>0.168</td>\n",
       "      <td>0.168</td>\n",
       "      <td>NaN</td>\n",
       "    </tr>\n",
       "    <tr>\n",
       "      <th>112118</th>\n",
       "      <td>00030804_000.png</td>\n",
       "      <td>no findings</td>\n",
       "      <td>0</td>\n",
       "      <td>30804</td>\n",
       "      <td>30</td>\n",
       "      <td>F</td>\n",
       "      <td>PA</td>\n",
       "      <td>2048</td>\n",
       "      <td>2500</td>\n",
       "      <td>0.168</td>\n",
       "      <td>0.168</td>\n",
       "      <td>NaN</td>\n",
       "    </tr>\n",
       "    <tr>\n",
       "      <th>112119</th>\n",
       "      <td>00030805_000.png</td>\n",
       "      <td>no findings</td>\n",
       "      <td>0</td>\n",
       "      <td>30805</td>\n",
       "      <td>27</td>\n",
       "      <td>M</td>\n",
       "      <td>PA</td>\n",
       "      <td>2048</td>\n",
       "      <td>2500</td>\n",
       "      <td>0.171</td>\n",
       "      <td>0.171</td>\n",
       "      <td>NaN</td>\n",
       "    </tr>\n",
       "  </tbody>\n",
       "</table>\n",
       "<p>112120 rows × 12 columns</p>\n",
       "</div>"
      ],
      "text/plain": [
       "             Image Index Finding Labels  Follow-up #  Patient ID  Patient Age  \\\n",
       "0       00000001_000.png    no findings            0           1           58   \n",
       "1       00000001_001.png    no findings            1           1           58   \n",
       "2       00000001_002.png    no findings            2           1           58   \n",
       "3       00000002_000.png    no findings            0           2           81   \n",
       "4       00000003_000.png    no findings            0           3           81   \n",
       "...                  ...            ...          ...         ...          ...   \n",
       "112115  00030801_001.png      pneumonia            1       30801           39   \n",
       "112116  00030802_000.png    no findings            0       30802           29   \n",
       "112117  00030803_000.png    no findings            0       30803           42   \n",
       "112118  00030804_000.png    no findings            0       30804           30   \n",
       "112119  00030805_000.png    no findings            0       30805           27   \n",
       "\n",
       "       Patient Gender View Position  OriginalImage[Width  Height]  \\\n",
       "0                   M            PA                 2682     2749   \n",
       "1                   M            PA                 2894     2729   \n",
       "2                   M            PA                 2500     2048   \n",
       "3                   M            PA                 2500     2048   \n",
       "4                   F            PA                 2582     2991   \n",
       "...               ...           ...                  ...      ...   \n",
       "112115              M            PA                 2048     2500   \n",
       "112116              M            PA                 2048     2500   \n",
       "112117              F            PA                 2048     2500   \n",
       "112118              F            PA                 2048     2500   \n",
       "112119              M            PA                 2048     2500   \n",
       "\n",
       "        OriginalImagePixelSpacing[x     y]  Unnamed: 11  \n",
       "0                             0.143  0.143          NaN  \n",
       "1                             0.143  0.143          NaN  \n",
       "2                             0.168  0.168          NaN  \n",
       "3                             0.171  0.171          NaN  \n",
       "4                             0.143  0.143          NaN  \n",
       "...                             ...    ...          ...  \n",
       "112115                        0.168  0.168          NaN  \n",
       "112116                        0.168  0.168          NaN  \n",
       "112117                        0.168  0.168          NaN  \n",
       "112118                        0.168  0.168          NaN  \n",
       "112119                        0.171  0.171          NaN  \n",
       "\n",
       "[112120 rows x 12 columns]"
      ]
     },
     "execution_count": 61,
     "metadata": {},
     "output_type": "execute_result"
    }
   ],
   "source": [
    "relabeled_df[relabeled_df.columns[1]].unique()\n",
    "relabeled_df"
   ]
  },
  {
   "cell_type": "code",
   "execution_count": 62,
   "metadata": {},
   "outputs": [],
   "source": [
    "males, females = relabeled_df[relabeled_df[relabeled_df.columns[5]] == \"M\"], relabeled_df[relabeled_df[relabeled_df.columns[5]] == \"F\"]\n",
    "pneumonia = relabeled_df[(relabeled_df[relabeled_df.columns[1]] == \"pneumonia\")]\n",
    "nofindings = relabeled_df[(relabeled_df[relabeled_df.columns[1]] != \"pneumonia\")]"
   ]
  },
  {
   "cell_type": "code",
   "execution_count": 63,
   "metadata": {},
   "outputs": [],
   "source": [
    "# Gender Distribution\n",
    "total = len(males) + len(females)\n",
    "percent_male, percent_female = (len(males) / total) * 100, (len(females) / total) * 100\n",
    "\n",
    "# Disease Distribution\n",
    "total = len(pneumonia) + len(nofindings)\n",
    "percent_pneumonia, percent_nofindings = (len(pneumonia) / total) * 100, (len(nofindings) / total) * 100"
   ]
  },
  {
   "cell_type": "code",
   "execution_count": 64,
   "metadata": {},
   "outputs": [
    {
     "name": "stdout",
     "output_type": "stream",
     "text": [
      "NIH Data Distribution\n"
     ]
    },
    {
     "data": {
      "image/png": "[encoded data removed]",
      "text/plain": [
       "<Figure size 640x480 with 2 Axes>"
      ]
     },
     "metadata": {},
     "output_type": "display_data"
    }
   ],
   "source": [
    "print(\"NIH Data Distribution\")\n",
    "# Create subplots\n",
    "fig, axes = plt.subplots(1, 2)\n",
    "fig.subplots_adjust(left=0.1, right=2, bottom=0.1, top=0.9, wspace=0.4, hspace=0.6)\n",
    "# Plot the first pie chart\n",
    "axes[0].pie([percent_male, percent_female], labels=['Male', 'Female'], explode=[0.1, 0], autopct='%1.1f%%', startangle=90)\n",
    "axes[0].axis('equal')  # Equal aspect ratio ensures that pie is drawn as a circle.\n",
    "axes[0].set_title('Gender Distribution')\n",
    "\n",
    "axes[1].pie([percent_pneumonia, percent_nofindings], labels=['pneumonia', 'nofindings'], explode=[0.1, 0], autopct='%1.1f%%', startangle=90)\n",
    "axes[1].axis('equal')\n",
    "axes[1].set_title('Disease Distribution')\n",
    "\n",
    "# Display the plot\n",
    "plt.show()"
   ]
  },
  {
   "cell_type": "markdown",
   "metadata": {},
   "source": [
    "## Visualize RSNA Data"
   ]
  },
  {
   "cell_type": "code",
   "execution_count": 80,
   "metadata": {},
   "outputs": [
    {
     "data": {
      "text/plain": [
       "30000"
      ]
     },
     "execution_count": 80,
     "metadata": {},
     "output_type": "execute_result"
    }
   ],
   "source": [
    "import os\n",
    "\n",
    "path2rsna = \"./datasets/rsna/\"\n",
    "rsna_names = os.listdir(path2rsna)\n",
    "rsna_names = [name for name in rsna_names if \".png\" in name]\n",
    "len(rsna_names)"
   ]
  },
  {
   "cell_type": "code",
   "execution_count": 81,
   "metadata": {},
   "outputs": [
    {
     "name": "stderr",
     "output_type": "stream",
     "text": [
      "100%|██████████| 112120/112120 [00:38<00:00, 2912.79it/s]\n"
     ]
    }
   ],
   "source": [
    "from tqdm import tqdm\n",
    "\n",
    "tmp = relabeled_df.copy()\n",
    "rsna_col = []\n",
    "\n",
    "for idx in tqdm(range(len(tmp))):\n",
    "    if tmp.iloc[idx,0] in rsna_names:\n",
    "        rsna_col.append(1)\n",
    "    else:\n",
    "        rsna_col.append(0)"
   ]
  },
  {
   "cell_type": "code",
   "execution_count": 82,
   "metadata": {},
   "outputs": [],
   "source": [
    "tmp[\"rsna\"] = rsna_col # add rsna column to tmp\n",
    "rsna_df = tmp[tmp[\"rsna\"] == 1]\n",
    "rsna_df.to_csv('./datasets/rsna_patients.csv', index=False) # Save RSNA Dataframe"
   ]
  },
  {
   "cell_type": "code",
   "execution_count": 83,
   "metadata": {},
   "outputs": [],
   "source": [
    "# split rsna_df into gender and disease subgroups\n",
    "males, females = rsna_df[rsna_df[rsna_df.columns[5]] == \"M\"], rsna_df[rsna_df[rsna_df.columns[5]] == \"F\"]\n",
    "pneumonia = rsna_df[(rsna_df[rsna_df.columns[1]] == \"pneumonia\")]\n",
    "nofindings = rsna_df[(rsna_df[rsna_df.columns[1]] != \"pneumonia\")]\n",
    "\n",
    "# Gender Distribution\n",
    "total = len(males) + len(females)\n",
    "percent_male, percent_female = (len(males) / total) * 100, (len(females) / total) * 100\n",
    "\n",
    "# Disease Distribution\n",
    "total = len(pneumonia) + len(nofindings)\n",
    "percent_pneumonia, percent_nofindings = (len(pneumonia) / total) * 100, (len(nofindings) / total) * 100"
   ]
  },
  {
   "cell_type": "code",
   "execution_count": 84,
   "metadata": {},
   "outputs": [
    {
     "name": "stdout",
     "output_type": "stream",
     "text": [
      "RSNA Data Distribution\n"
     ]
    },
    {
     "data": {
      "image/png": "[encoded data removed]",
      "text/plain": [
       "<Figure size 640x480 with 2 Axes>"
      ]
     },
     "metadata": {},
     "output_type": "display_data"
    }
   ],
   "source": [
    "print(\"RSNA Data Distribution\")\n",
    "# Create subplots\n",
    "fig, axes = plt.subplots(1, 2)\n",
    "fig.subplots_adjust(left=0.1, right=2, bottom=0.1, top=0.9, wspace=0.4, hspace=0.6)\n",
    "# Plot the first pie chart\n",
    "axes[0].pie([percent_male, percent_female], labels=['Male', 'Female'], explode=[0.1, 0], autopct='%1.1f%%', startangle=90)\n",
    "axes[0].axis('equal')  # Equal aspect ratio ensures that pie is drawn as a circle.\n",
    "axes[0].set_title('Gender Distribution')\n",
    "\n",
    "axes[1].pie([percent_pneumonia, percent_nofindings], labels=['pneumonia', 'nofindings'], explode=[0.1, 0], autopct='%1.1f%%', startangle=90)\n",
    "axes[1].axis('equal')\n",
    "axes[1].set_title('Disease Distribution')\n",
    "\n",
    "# Display the plot\n",
    "plt.show()"
   ]
  },
  {
   "cell_type": "code",
   "execution_count": 98,
   "metadata": {},
   "outputs": [
    {
     "data": {
      "text/plain": [
       "30227"
      ]
     },
     "execution_count": 98,
     "metadata": {},
     "output_type": "execute_result"
    }
   ],
   "source": [
    "dataset = pd.read_csv(\"./pneumonia_dataset/stage_2_train_labels.csv\")\n",
    "df = pd.DataFrame(dataset)\n",
    "len(df)\n",
    "# df[df[df.columns[5]] == \"M\"]"
   ]
  },
  {
   "cell_type": "code",
   "execution_count": 99,
   "metadata": {},
   "outputs": [],
   "source": [
    "import json\n",
    "\n",
    "with open('pneumonia-challenge-dataset-mappings_2018.json', 'r') as file:\n",
    "    data = file.read()\n",
    "    \n",
    "parsed_data = json.loads(data)"
   ]
  },
  {
   "cell_type": "code",
   "execution_count": 100,
   "metadata": {},
   "outputs": [],
   "source": [
    "rsna_names = []\n",
    "patient_map = {}\n",
    "for i in range(len(parsed_data)):\n",
    "    patient_map[parsed_data[i]['subset_img_id']] = parsed_data[i]['img_id']"
   ]
  },
  {
   "cell_type": "code",
   "execution_count": 104,
   "metadata": {},
   "outputs": [
    {
     "data": {
      "text/plain": [
       "30227"
      ]
     },
     "execution_count": 104,
     "metadata": {},
     "output_type": "execute_result"
    }
   ],
   "source": [
    "rsna_df = df[df['patientId'].isin(patient_map.keys())]\n",
    "len(rsna_df)"
   ]
  },
  {
   "cell_type": "markdown",
   "metadata": {},
   "source": [
    "## Save Training CSV"
   ]
  },
  {
   "cell_type": "code",
   "execution_count": 123,
   "metadata": {},
   "outputs": [
    {
     "data": {
      "text/html": [
       "<div>\n",
       "<style scoped>\n",
       "    .dataframe tbody tr th:only-of-type {\n",
       "        vertical-align: middle;\n",
       "    }\n",
       "\n",
       "    .dataframe tbody tr th {\n",
       "        vertical-align: top;\n",
       "    }\n",
       "\n",
       "    .dataframe thead th {\n",
       "        text-align: right;\n",
       "    }\n",
       "</style>\n",
       "<table border=\"1\" class=\"dataframe\">\n",
       "  <thead>\n",
       "    <tr style=\"text-align: right;\">\n",
       "      <th></th>\n",
       "      <th>patientId</th>\n",
       "      <th>x</th>\n",
       "      <th>y</th>\n",
       "      <th>width</th>\n",
       "      <th>height</th>\n",
       "      <th>Target</th>\n",
       "    </tr>\n",
       "  </thead>\n",
       "  <tbody>\n",
       "    <tr>\n",
       "      <th>0</th>\n",
       "      <td>00019124_092.png</td>\n",
       "      <td>NaN</td>\n",
       "      <td>NaN</td>\n",
       "      <td>NaN</td>\n",
       "      <td>NaN</td>\n",
       "      <td>0</td>\n",
       "    </tr>\n",
       "    <tr>\n",
       "      <th>1</th>\n",
       "      <td>00028640_003.png</td>\n",
       "      <td>NaN</td>\n",
       "      <td>NaN</td>\n",
       "      <td>NaN</td>\n",
       "      <td>NaN</td>\n",
       "      <td>0</td>\n",
       "    </tr>\n",
       "    <tr>\n",
       "      <th>2</th>\n",
       "      <td>00016550_019.png</td>\n",
       "      <td>NaN</td>\n",
       "      <td>NaN</td>\n",
       "      <td>NaN</td>\n",
       "      <td>NaN</td>\n",
       "      <td>0</td>\n",
       "    </tr>\n",
       "    <tr>\n",
       "      <th>3</th>\n",
       "      <td>00006123_005.png</td>\n",
       "      <td>NaN</td>\n",
       "      <td>NaN</td>\n",
       "      <td>NaN</td>\n",
       "      <td>NaN</td>\n",
       "      <td>0</td>\n",
       "    </tr>\n",
       "    <tr>\n",
       "      <th>4</th>\n",
       "      <td>00020673_042.png</td>\n",
       "      <td>264.0</td>\n",
       "      <td>152.0</td>\n",
       "      <td>213.0</td>\n",
       "      <td>379.0</td>\n",
       "      <td>1</td>\n",
       "    </tr>\n",
       "    <tr>\n",
       "      <th>...</th>\n",
       "      <td>...</td>\n",
       "      <td>...</td>\n",
       "      <td>...</td>\n",
       "      <td>...</td>\n",
       "      <td>...</td>\n",
       "      <td>...</td>\n",
       "    </tr>\n",
       "    <tr>\n",
       "      <th>30222</th>\n",
       "      <td>00029502_003.png</td>\n",
       "      <td>185.0</td>\n",
       "      <td>298.0</td>\n",
       "      <td>228.0</td>\n",
       "      <td>379.0</td>\n",
       "      <td>1</td>\n",
       "    </tr>\n",
       "    <tr>\n",
       "      <th>30223</th>\n",
       "      <td>00011921_002.png</td>\n",
       "      <td>NaN</td>\n",
       "      <td>NaN</td>\n",
       "      <td>NaN</td>\n",
       "      <td>NaN</td>\n",
       "      <td>0</td>\n",
       "    </tr>\n",
       "    <tr>\n",
       "      <th>30224</th>\n",
       "      <td>00024731_000.png</td>\n",
       "      <td>NaN</td>\n",
       "      <td>NaN</td>\n",
       "      <td>NaN</td>\n",
       "      <td>NaN</td>\n",
       "      <td>0</td>\n",
       "    </tr>\n",
       "    <tr>\n",
       "      <th>30225</th>\n",
       "      <td>00020213_073.png</td>\n",
       "      <td>570.0</td>\n",
       "      <td>393.0</td>\n",
       "      <td>261.0</td>\n",
       "      <td>345.0</td>\n",
       "      <td>1</td>\n",
       "    </tr>\n",
       "    <tr>\n",
       "      <th>30226</th>\n",
       "      <td>00020213_073.png</td>\n",
       "      <td>233.0</td>\n",
       "      <td>424.0</td>\n",
       "      <td>201.0</td>\n",
       "      <td>356.0</td>\n",
       "      <td>1</td>\n",
       "    </tr>\n",
       "  </tbody>\n",
       "</table>\n",
       "<p>30227 rows × 6 columns</p>\n",
       "</div>"
      ],
      "text/plain": [
       "              patientId      x      y  width  height  Target\n",
       "0      00019124_092.png    NaN    NaN    NaN     NaN       0\n",
       "1      00028640_003.png    NaN    NaN    NaN     NaN       0\n",
       "2      00016550_019.png    NaN    NaN    NaN     NaN       0\n",
       "3      00006123_005.png    NaN    NaN    NaN     NaN       0\n",
       "4      00020673_042.png  264.0  152.0  213.0   379.0       1\n",
       "...                 ...    ...    ...    ...     ...     ...\n",
       "30222  00029502_003.png  185.0  298.0  228.0   379.0       1\n",
       "30223  00011921_002.png    NaN    NaN    NaN     NaN       0\n",
       "30224  00024731_000.png    NaN    NaN    NaN     NaN       0\n",
       "30225  00020213_073.png  570.0  393.0  261.0   345.0       1\n",
       "30226  00020213_073.png  233.0  424.0  201.0   356.0       1\n",
       "\n",
       "[30227 rows x 6 columns]"
      ]
     },
     "execution_count": 123,
     "metadata": {},
     "output_type": "execute_result"
    }
   ],
   "source": [
    "tmp = df.copy()\n",
    "for idx in range(len(tmp)):\n",
    "    if tmp.iloc[idx,0] not in patient_map:\n",
    "        print(f\"issue with {tmp.iloc[idx,1]}...\")\n",
    "    else:\n",
    "        tmp.iloc[idx,0] = patient_map[tmp.iloc[idx,0]]\n",
    "tmp"
   ]
  },
  {
   "cell_type": "code",
   "execution_count": 124,
   "metadata": {},
   "outputs": [
    {
     "name": "stdout",
     "output_type": "stream",
     "text": [
      "Training Dataset:  26684\n"
     ]
    }
   ],
   "source": [
    "print(\"Training Dataset: \",len(tmp[tmp.columns[0]].unique()))\n",
    "tmp[[\"patientId\", \"Target\"]].to_csv('./datasets/train_rsna.csv', index=False) # Save RSNA Dataframe"
   ]
  },
  {
   "cell_type": "markdown",
   "metadata": {},
   "source": [
    "## Visualize Training Data"
   ]
  },
  {
   "cell_type": "code",
   "execution_count": 113,
   "metadata": {},
   "outputs": [],
   "source": [
    "# split rsna_df into gender and disease subgroups\n",
    "males, females = rsna_df[rsna_df[rsna_df.columns[5]] == \"M\"], rsna_df[rsna_df[rsna_df.columns[5]] == \"F\"]\n",
    "\n",
    "rsna_df = df.copy()\n",
    "pneumonia = rsna_df[(rsna_df[rsna_df.columns[-1]] == 1)]\n",
    "nofindings = rsna_df[(rsna_df[rsna_df.columns[-1]] != 1)]\n",
    "\n",
    "# # Gender Distribution\n",
    "# total = len(males) + len(females)\n",
    "# percent_male, percent_female = (len(males) / total) * 100, (len(females) / total) * 100\n",
    "\n",
    "# Disease Distribution\n",
    "total = len(pneumonia) + len(nofindings)\n",
    "percent_pneumonia, percent_nofindings = (len(pneumonia) / total) * 100, (len(nofindings) / total) * 100"
   ]
  },
  {
   "cell_type": "code",
   "execution_count": 114,
   "metadata": {},
   "outputs": [
    {
     "name": "stdout",
     "output_type": "stream",
     "text": [
      "RSNA Data Distribution\n"
     ]
    },
    {
     "data": {
      "image/png": "[encoded data removed]",
      "text/plain": [
       "<Figure size 640x480 with 2 Axes>"
      ]
     },
     "metadata": {},
     "output_type": "display_data"
    }
   ],
   "source": [
    "print(\"RSNA Data Distribution\")\n",
    "# Create subplots\n",
    "fig, axes = plt.subplots(1, 2)\n",
    "fig.subplots_adjust(left=0.1, right=2, bottom=0.1, top=0.9, wspace=0.4, hspace=0.6)\n",
    "# Plot the first pie chart\n",
    "axes[0].pie([percent_male, percent_female], labels=['Male', 'Female'], explode=[0.1, 0], autopct='%1.1f%%', startangle=90)\n",
    "axes[0].axis('equal')  # Equal aspect ratio ensures that pie is drawn as a circle.\n",
    "axes[0].set_title('Gender Distribution')\n",
    "\n",
    "axes[1].pie([percent_pneumonia, percent_nofindings], labels=['pneumonia', 'nofindings'], explode=[0.1, 0], autopct='%1.1f%%', startangle=90)\n",
    "axes[1].axis('equal')\n",
    "axes[1].set_title('Disease Distribution')\n",
    "\n",
    "# Display the plot\n",
    "plt.show()"
   ]
  },
  {
   "cell_type": "markdown",
   "metadata": {},
   "source": [
    "## Get Testing Data"
   ]
  },
  {
   "cell_type": "code",
   "execution_count": 160,
   "metadata": {},
   "outputs": [],
   "source": [
    "# load csv files\n",
    "total_rsna = pd.read_csv(\"./datasets/rsna_patients.csv\")\n",
    "nih, train_rsna = pd.read_csv(\"./3/Data_Entry_2017.csv\"), pd.read_csv(\"./datasets/train_rsna.csv\")\n",
    "# convert to dataframe\n",
    "total_rsna, nih, train_rsna = pd.DataFrame(total_rsna), pd.DataFrame(nih), pd.DataFrame(train_rsna)\n",
    "total_rsna, nih = total_rsna[[\"Image Index\"]], nih[[\"Image Index\", \"Finding Labels\"]]"
   ]
  },
  {
   "cell_type": "code",
   "execution_count": 155,
   "metadata": {},
   "outputs": [
    {
     "data": {
      "text/plain": [
       "3316"
      ]
     },
     "execution_count": 155,
     "metadata": {},
     "output_type": "execute_result"
    }
   ],
   "source": [
    "# Return rows found in RSNA but not in train_rsna (i.e. rest are test images)\n",
    "test_rsna = nih[(nih[\"Image Index\"].isin(total_rsna[\"Image Index\"])) & ~(nih[\"Image Index\"].isin(train_rsna[\"patientId\"]))]\n",
    "len(test_rsna)"
   ]
  },
  {
   "cell_type": "code",
   "execution_count": 227,
   "metadata": {},
   "outputs": [
    {
     "name": "stdout",
     "output_type": "stream",
     "text": [
      "00008468_058.png\n"
     ]
    }
   ],
   "source": [
    "train, test = os.listdir(\"./pneumonia_dataset/stage_2_train_images\"), os.listdir(\"./pneumonia_dataset/stage_2_test_images\")\n",
    "train_ids, test_ids = [name.split('.')[0] for name in train], [name.split('.')[0] for name in test]\n",
    "train_ids, test_ids = [patient_map[name] for name in train_ids], [patient_map[name] for name in test_ids]\n",
    "print(train_ids[0])"
   ]
  },
  {
   "cell_type": "code",
   "execution_count": 228,
   "metadata": {},
   "outputs": [],
   "source": [
    "# load csv files\n",
    "total_rsna = pd.DataFrame(pd.read_csv(\"./3/Data_Entry_2017.csv\"))\n",
    "test_df = total_rsna[total_rsna[\"Image Index\"].isin(test_ids)]\n",
    "train_df = total_rsna[total_rsna[\"Image Index\"].isin(train_ids)]\n",
    "train_df, test_df = train_df[[\"Image Index\", \"Finding Labels\"]], test_df[[\"Image Index\", \"Finding Labels\"]]"
   ]
  },
  {
   "cell_type": "code",
   "execution_count": 229,
   "metadata": {},
   "outputs": [],
   "source": [
    "labels = test_df[\"Finding Labels\"].unique()\n",
    "labels = [label for label in labels if \"pneumonia\" in label.lower()]"
   ]
  },
  {
   "cell_type": "code",
   "execution_count": 230,
   "metadata": {},
   "outputs": [
    {
     "data": {
      "text/html": [
       "<div>\n",
       "<style scoped>\n",
       "    .dataframe tbody tr th:only-of-type {\n",
       "        vertical-align: middle;\n",
       "    }\n",
       "\n",
       "    .dataframe tbody tr th {\n",
       "        vertical-align: top;\n",
       "    }\n",
       "\n",
       "    .dataframe thead th {\n",
       "        text-align: right;\n",
       "    }\n",
       "</style>\n",
       "<table border=\"1\" class=\"dataframe\">\n",
       "  <thead>\n",
       "    <tr style=\"text-align: right;\">\n",
       "      <th></th>\n",
       "      <th>Image Index</th>\n",
       "      <th>Finding Labels</th>\n",
       "    </tr>\n",
       "  </thead>\n",
       "  <tbody>\n",
       "    <tr>\n",
       "      <th>253</th>\n",
       "      <td>00000056_000.png</td>\n",
       "      <td>Nodule|Pneumonia</td>\n",
       "    </tr>\n",
       "    <tr>\n",
       "      <th>614</th>\n",
       "      <td>00000150_002.png</td>\n",
       "      <td>Atelectasis|Infiltration|Pneumonia</td>\n",
       "    </tr>\n",
       "    <tr>\n",
       "      <th>4703</th>\n",
       "      <td>00001255_031.png</td>\n",
       "      <td>Infiltration|Pneumonia</td>\n",
       "    </tr>\n",
       "    <tr>\n",
       "      <th>4928</th>\n",
       "      <td>00001317_002.png</td>\n",
       "      <td>Pneumonia</td>\n",
       "    </tr>\n",
       "    <tr>\n",
       "      <th>5673</th>\n",
       "      <td>00001529_002.png</td>\n",
       "      <td>Pneumonia</td>\n",
       "    </tr>\n",
       "    <tr>\n",
       "      <th>...</th>\n",
       "      <td>...</td>\n",
       "      <td>...</td>\n",
       "    </tr>\n",
       "    <tr>\n",
       "      <th>106598</th>\n",
       "      <td>00028764_003.png</td>\n",
       "      <td>Infiltration|Pneumonia</td>\n",
       "    </tr>\n",
       "    <tr>\n",
       "      <th>108627</th>\n",
       "      <td>00029469_012.png</td>\n",
       "      <td>Edema|Effusion|Infiltration|Pneumonia</td>\n",
       "    </tr>\n",
       "    <tr>\n",
       "      <th>110916</th>\n",
       "      <td>00030249_001.png</td>\n",
       "      <td>Infiltration|Pneumonia</td>\n",
       "    </tr>\n",
       "    <tr>\n",
       "      <th>111088</th>\n",
       "      <td>00030323_015.png</td>\n",
       "      <td>Consolidation|Pneumonia|Mass</td>\n",
       "    </tr>\n",
       "    <tr>\n",
       "      <th>111285</th>\n",
       "      <td>00030398_000.png</td>\n",
       "      <td>Consolidation|Effusion|Pneumonia</td>\n",
       "    </tr>\n",
       "  </tbody>\n",
       "</table>\n",
       "<p>84 rows × 2 columns</p>\n",
       "</div>"
      ],
      "text/plain": [
       "             Image Index                         Finding Labels\n",
       "253     00000056_000.png                       Nodule|Pneumonia\n",
       "614     00000150_002.png     Atelectasis|Infiltration|Pneumonia\n",
       "4703    00001255_031.png                 Infiltration|Pneumonia\n",
       "4928    00001317_002.png                              Pneumonia\n",
       "5673    00001529_002.png                              Pneumonia\n",
       "...                  ...                                    ...\n",
       "106598  00028764_003.png                 Infiltration|Pneumonia\n",
       "108627  00029469_012.png  Edema|Effusion|Infiltration|Pneumonia\n",
       "110916  00030249_001.png                 Infiltration|Pneumonia\n",
       "111088  00030323_015.png           Consolidation|Pneumonia|Mass\n",
       "111285  00030398_000.png       Consolidation|Effusion|Pneumonia\n",
       "\n",
       "[84 rows x 2 columns]"
      ]
     },
     "execution_count": 230,
     "metadata": {},
     "output_type": "execute_result"
    }
   ],
   "source": [
    "test_df[test_df[\"Finding Labels\"].isin(labels)]"
   ]
  },
  {
   "cell_type": "code",
   "execution_count": 231,
   "metadata": {},
   "outputs": [],
   "source": [
    "test_df.loc[(test_df['Finding Labels'].isin(labels)), 'Finding Labels'] = 1\n",
    "test_df.loc[(~test_df['Finding Labels'].isin(labels)) & (test_df['Finding Labels'] != 1), 'Finding Labels'] = 0"
   ]
  },
  {
   "cell_type": "code",
   "execution_count": 235,
   "metadata": {},
   "outputs": [
    {
     "data": {
      "text/html": [
       "<div>\n",
       "<style scoped>\n",
       "    .dataframe tbody tr th:only-of-type {\n",
       "        vertical-align: middle;\n",
       "    }\n",
       "\n",
       "    .dataframe tbody tr th {\n",
       "        vertical-align: top;\n",
       "    }\n",
       "\n",
       "    .dataframe thead th {\n",
       "        text-align: right;\n",
       "    }\n",
       "</style>\n",
       "<table border=\"1\" class=\"dataframe\">\n",
       "  <thead>\n",
       "    <tr style=\"text-align: right;\">\n",
       "      <th></th>\n",
       "      <th>Image Index</th>\n",
       "      <th>Finding Labels</th>\n",
       "    </tr>\n",
       "  </thead>\n",
       "  <tbody>\n",
       "    <tr>\n",
       "      <th>22</th>\n",
       "      <td>00000007_000.png</td>\n",
       "      <td>0</td>\n",
       "    </tr>\n",
       "    <tr>\n",
       "      <th>44</th>\n",
       "      <td>00000013_006.png</td>\n",
       "      <td>0</td>\n",
       "    </tr>\n",
       "    <tr>\n",
       "      <th>127</th>\n",
       "      <td>00000032_013.png</td>\n",
       "      <td>0</td>\n",
       "    </tr>\n",
       "    <tr>\n",
       "      <th>155</th>\n",
       "      <td>00000032_041.png</td>\n",
       "      <td>0</td>\n",
       "    </tr>\n",
       "    <tr>\n",
       "      <th>172</th>\n",
       "      <td>00000032_058.png</td>\n",
       "      <td>0</td>\n",
       "    </tr>\n",
       "    <tr>\n",
       "      <th>...</th>\n",
       "      <td>...</td>\n",
       "      <td>...</td>\n",
       "    </tr>\n",
       "    <tr>\n",
       "      <th>112018</th>\n",
       "      <td>00030733_006.png</td>\n",
       "      <td>0</td>\n",
       "    </tr>\n",
       "    <tr>\n",
       "      <th>112025</th>\n",
       "      <td>00030740_000.png</td>\n",
       "      <td>0</td>\n",
       "    </tr>\n",
       "    <tr>\n",
       "      <th>112035</th>\n",
       "      <td>00030748_000.png</td>\n",
       "      <td>0</td>\n",
       "    </tr>\n",
       "    <tr>\n",
       "      <th>112063</th>\n",
       "      <td>00030764_000.png</td>\n",
       "      <td>0</td>\n",
       "    </tr>\n",
       "    <tr>\n",
       "      <th>112117</th>\n",
       "      <td>00030803_000.png</td>\n",
       "      <td>0</td>\n",
       "    </tr>\n",
       "  </tbody>\n",
       "</table>\n",
       "<p>2916 rows × 2 columns</p>\n",
       "</div>"
      ],
      "text/plain": [
       "             Image Index Finding Labels\n",
       "22      00000007_000.png              0\n",
       "44      00000013_006.png              0\n",
       "127     00000032_013.png              0\n",
       "155     00000032_041.png              0\n",
       "172     00000032_058.png              0\n",
       "...                  ...            ...\n",
       "112018  00030733_006.png              0\n",
       "112025  00030740_000.png              0\n",
       "112035  00030748_000.png              0\n",
       "112063  00030764_000.png              0\n",
       "112117  00030803_000.png              0\n",
       "\n",
       "[2916 rows x 2 columns]"
      ]
     },
     "execution_count": 235,
     "metadata": {},
     "output_type": "execute_result"
    }
   ],
   "source": [
    "test_df[test_df[\"Finding Labels\"] == 0]"
   ]
  },
  {
   "cell_type": "code",
   "execution_count": 236,
   "metadata": {},
   "outputs": [],
   "source": [
    "test_df.to_csv('./datasets/test_rsna.csv', index=False) # Save RSNA Dataframe"
   ]
  }
 ],
 "metadata": {
  "kernelspec": {
   "display_name": "ada",
   "language": "python",
   "name": "ada"
  },
  "language_info": {
   "codemirror_mode": {
    "name": "ipython",
    "version": 3
   },
   "file_extension": ".py",
   "mimetype": "text/x-python",
   "name": "python",
   "nbconvert_exporter": "python",
   "pygments_lexer": "ipython3",
   "version": "3.8.20"
  }
 },
 "nbformat": 4,
 "nbformat_minor": 4
}
